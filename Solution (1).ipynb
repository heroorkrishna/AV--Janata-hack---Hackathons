{
  "nbformat": 4,
  "nbformat_minor": 0,
  "metadata": {
    "colab": {
      "name": "Solution.ipynb",
      "provenance": [],
      "collapsed_sections": []
    },
    "kernelspec": {
      "name": "python3",
      "display_name": "Python 3"
    }
  },
  "cells": [
    {
      "cell_type": "code",
      "metadata": {
        "id": "aWzZq2TaFEae",
        "colab_type": "code",
        "colab": {
          "base_uri": "https://localhost:8080/",
          "height": 578
        },
        "outputId": "d99c3430-8d1a-42fb-9ac6-908619a2a98c"
      },
      "source": [
        "!wget https://datahack-prod.s3.amazonaws.com/test_file/test_HLxMpl7.zip\n",
        "!wget https://datahack-prod.s3.amazonaws.com/train_file/train_mddNHeX.zip\n",
        "!wget https://datahack-prod.s3.amazonaws.com/sample_submission/sample_submission_J0OjXLi_DDt3uQN.csv"
      ],
      "execution_count": 1,
      "outputs": [
        {
          "output_type": "stream",
          "text": [
            "--2020-07-22 05:53:45--  https://datahack-prod.s3.amazonaws.com/test_file/test_HLxMpl7.zip\n",
            "Resolving datahack-prod.s3.amazonaws.com (datahack-prod.s3.amazonaws.com)... 52.219.64.48\n",
            "Connecting to datahack-prod.s3.amazonaws.com (datahack-prod.s3.amazonaws.com)|52.219.64.48|:443... connected.\n",
            "HTTP request sent, awaiting response... 200 OK\n",
            "Length: 2686933 (2.6M) [application/zip]\n",
            "Saving to: ‘test_HLxMpl7.zip’\n",
            "\n",
            "test_HLxMpl7.zip    100%[===================>]   2.56M  1.57MB/s    in 1.6s    \n",
            "\n",
            "2020-07-22 05:53:47 (1.57 MB/s) - ‘test_HLxMpl7.zip’ saved [2686933/2686933]\n",
            "\n",
            "--2020-07-22 05:53:51--  https://datahack-prod.s3.amazonaws.com/train_file/train_mddNHeX.zip\n",
            "Resolving datahack-prod.s3.amazonaws.com (datahack-prod.s3.amazonaws.com)... 52.219.62.80\n",
            "Connecting to datahack-prod.s3.amazonaws.com (datahack-prod.s3.amazonaws.com)|52.219.62.80|:443... connected.\n",
            "HTTP request sent, awaiting response... 200 OK\n",
            "Length: 4566884 (4.4M) [application/zip]\n",
            "Saving to: ‘train_mddNHeX.zip’\n",
            "\n",
            "train_mddNHeX.zip   100%[===================>]   4.35M  2.37MB/s    in 1.8s    \n",
            "\n",
            "2020-07-22 05:53:54 (2.37 MB/s) - ‘train_mddNHeX.zip’ saved [4566884/4566884]\n",
            "\n",
            "--2020-07-22 05:53:59--  https://datahack-prod.s3.amazonaws.com/sample_submission/sample_submission_J0OjXLi_DDt3uQN.csv\n",
            "Resolving datahack-prod.s3.amazonaws.com (datahack-prod.s3.amazonaws.com)... 52.219.64.32\n",
            "Connecting to datahack-prod.s3.amazonaws.com (datahack-prod.s3.amazonaws.com)|52.219.64.32|:443... connected.\n",
            "HTTP request sent, awaiting response... 200 OK\n",
            "Length: 2154562 (2.1M) [text/csv]\n",
            "Saving to: ‘sample_submission_J0OjXLi_DDt3uQN.csv’\n",
            "\n",
            "sample_submission_J 100%[===================>]   2.05M  1.24MB/s    in 1.7s    \n",
            "\n",
            "2020-07-22 05:54:01 (1.24 MB/s) - ‘sample_submission_J0OjXLi_DDt3uQN.csv’ saved [2154562/2154562]\n",
            "\n"
          ],
          "name": "stdout"
        }
      ]
    },
    {
      "cell_type": "code",
      "metadata": {
        "id": "be9KX8WpFYGf",
        "colab_type": "code",
        "colab": {
          "base_uri": "https://localhost:8080/",
          "height": 136
        },
        "outputId": "71a5c629-099b-4862-a08b-f600968175f0"
      },
      "source": [
        "!unzip train_mddNHeX.zip\n",
        "!unzip test_HLxMpl7.zip"
      ],
      "execution_count": 2,
      "outputs": [
        {
          "output_type": "stream",
          "text": [
            "Archive:  train_mddNHeX.zip\n",
            "  inflating: challenge_data.csv      \n",
            "  inflating: train.csv               \n",
            "Archive:  test_HLxMpl7.zip\n",
            "  inflating: test.csv                \n",
            "   creating: __MACOSX/\n",
            "  inflating: __MACOSX/._test.csv     \n"
          ],
          "name": "stdout"
        }
      ]
    },
    {
      "cell_type": "code",
      "metadata": {
        "id": "Q8i9yr5PFoEy",
        "colab_type": "code",
        "colab": {
          "base_uri": "https://localhost:8080/",
          "height": 88
        },
        "outputId": "5981f690-9981-422b-99d1-935dce350ea7"
      },
      "source": [
        "# Load Libraries\n",
        "import pandas as pd\n",
        "import numpy as np\n",
        "import zipfile\n",
        "from sklearn.model_selection import train_test_split\n",
        "from sklearn.preprocessing import LabelEncoder\n",
        "\n",
        "from keras.preprocessing.text import Tokenizer\n",
        "from keras.preprocessing.sequence import pad_sequences\n",
        "from keras.models import Model\n",
        "from keras.layers import Dense,Embedding,LSTM,Dropout,Bidirectional,Input,BatchNormalization\n",
        "from keras.optimizers import Adam\n",
        "from keras.callbacks import EarlyStopping,ModelCheckpoint\n",
        "\n",
        "pd.options.display.max_rows\n",
        "pd.set_option('display.max_colwidth', -1)"
      ],
      "execution_count": 3,
      "outputs": [
        {
          "output_type": "stream",
          "text": [
            "Using TensorFlow backend.\n",
            "/usr/local/lib/python3.6/dist-packages/ipykernel_launcher.py:16: FutureWarning: Passing a negative integer is deprecated in version 1.0 and will not be supported in future version. Instead, use None to not limit the column width.\n",
            "  app.launch_new_instance()\n"
          ],
          "name": "stderr"
        }
      ]
    },
    {
      "cell_type": "code",
      "metadata": {
        "id": "nJxSuKAhFtbO",
        "colab_type": "code",
        "colab": {}
      },
      "source": [
        "train = pd.read_csv('train.csv')\n",
        "chal = pd.read_csv('challenge_data.csv')\n",
        "test = pd.read_csv('test.csv')"
      ],
      "execution_count": 5,
      "outputs": []
    },
    {
      "cell_type": "code",
      "metadata": {
        "id": "W6L7NNtbF0Dv",
        "colab_type": "code",
        "colab": {}
      },
      "source": [
        "# Create labels\n",
        "label = train[train.challenge_sequence > 10][['user_id','challenge']]\n",
        "label.rename(columns={'challenge':'label'},inplace=True)"
      ],
      "execution_count": 6,
      "outputs": []
    },
    {
      "cell_type": "code",
      "metadata": {
        "id": "RVHQ44jzF5yq",
        "colab_type": "code",
        "colab": {}
      },
      "source": [
        "# Treat the sequence of challenges as text\n",
        "df = train[train.challenge_sequence <= 10].groupby('user_id').challenge.aggregate(lambda x: ' '.join(x)).reset_index()"
      ],
      "execution_count": 7,
      "outputs": []
    },
    {
      "cell_type": "code",
      "metadata": {
        "id": "U2gyJwA8F8py",
        "colab_type": "code",
        "colab": {}
      },
      "source": [
        "df = df.merge(label)"
      ],
      "execution_count": 8,
      "outputs": []
    },
    {
      "cell_type": "code",
      "metadata": {
        "id": "yooMPRjVGM3K",
        "colab_type": "code",
        "colab": {}
      },
      "source": [
        "# Validation split for early stopping\n",
        "df_train, df_validation = train_test_split(df.sample(frac=1,random_state=123), test_size=0.05, random_state=123)\n"
      ],
      "execution_count": 9,
      "outputs": []
    },
    {
      "cell_type": "code",
      "metadata": {
        "id": "ZrXnQwPsGTZu",
        "colab_type": "code",
        "colab": {}
      },
      "source": [
        "# Encode challenges\n",
        "encoder = LabelEncoder()\n",
        "encoder.fit(challenges['challenge_ID'])\n",
        "df_train['brand_id_encoded'] = encoder.transform(df_train.label)\n",
        "df_validation['brand_id_encoded'] = encoder.transform(df_validation.label)"
      ],
      "execution_count": 10,
      "outputs": []
    },
    {
      "cell_type": "code",
      "metadata": {
        "id": "-R_vkh8VGWA7",
        "colab_type": "code",
        "colab": {}
      },
      "source": [
        "# Tokenize text\n",
        "tokenizer = Tokenizer()\n",
        "tokenizer.fit_on_texts(df_train['challenge'])"
      ],
      "execution_count": 11,
      "outputs": []
    },
    {
      "cell_type": "code",
      "metadata": {
        "id": "CAx2m5D7GYme",
        "colab_type": "code",
        "colab": {}
      },
      "source": [
        "# Constants\n",
        "NB_WORDS = len(tokenizer.word_index)\n",
        "MAX_SEQUENCE_LENGTH = 10\n",
        "N_CATEGORIES = challenges.shape[0]"
      ],
      "execution_count": 12,
      "outputs": []
    },
    {
      "cell_type": "code",
      "metadata": {
        "id": "lokVA-PrGbd2",
        "colab_type": "code",
        "colab": {}
      },
      "source": [
        "# Create sequences\n",
        "sequences_train = tokenizer.texts_to_sequences(df_train['challenge'])\n",
        "sequences_validation = tokenizer.texts_to_sequences(df_validation['challenge'])"
      ],
      "execution_count": 14,
      "outputs": []
    },
    {
      "cell_type": "code",
      "metadata": {
        "id": "2zJNmVrNGh-S",
        "colab_type": "code",
        "colab": {}
      },
      "source": [
        "# Pad sequences\n",
        "x_train = pad_sequences(sequences_train, maxlen=MAX_SEQUENCE_LENGTH, padding='post', truncating='post')\n",
        "x_validation = pad_sequences(sequences_validation, maxlen=MAX_SEQUENCE_LENGTH, padding='post', truncating='post')\n"
      ],
      "execution_count": 15,
      "outputs": []
    },
    {
      "cell_type": "code",
      "metadata": {
        "id": "Y4rEUZHKG6wZ",
        "colab_type": "code",
        "colab": {}
      },
      "source": [
        "# Set Labels\n",
        "y_train = df_train['brand_id_encoded'].values\n",
        "y_validation= df_validation['brand_id_encoded'].values"
      ],
      "execution_count": 20,
      "outputs": []
    },
    {
      "cell_type": "code",
      "metadata": {
        "id": "TMHyPJeLGkyJ",
        "colab_type": "code",
        "colab": {}
      },
      "source": [
        "# NN architecture\n",
        "def get_model(path='',lr=0.001):\n",
        "    adam = Adam(lr=lr)\n",
        "    inp = Input(shape=(MAX_SEQUENCE_LENGTH, ))\n",
        "    x = Embedding(NB_WORDS,1024)(inp)\n",
        "    x = BatchNormalization()(x)\n",
        "    x = Bidirectional(LSTM(512, dropout=0.1, recurrent_dropout=0.1))(x)\n",
        "    x = Dropout(0.4)(x)\n",
        "    x = Dense(N_CATEGORIES, activation=\"softmax\")(x)\n",
        "    model = Model(inputs=inp, outputs=x)\n",
        "    if path != '':\n",
        "        model.load_weights(path)\n",
        "    model.compile(loss='sparse_categorical_crossentropy', optimizer=adam, metrics=['accuracy'])\n",
        "    return model"
      ],
      "execution_count": 16,
      "outputs": []
    },
    {
      "cell_type": "code",
      "metadata": {
        "id": "f_m4fBZ4GpU5",
        "colab_type": "code",
        "colab": {}
      },
      "source": [
        "# Initialize the model\n",
        "model = get_model()"
      ],
      "execution_count": 17,
      "outputs": []
    },
    {
      "cell_type": "code",
      "metadata": {
        "id": "NxLG2RntGrgR",
        "colab_type": "code",
        "colab": {}
      },
      "source": [
        "path = 'best_model_weights'\n",
        "es_callback = EarlyStopping(monitor=\"val_loss\", patience=5)\n",
        "mc_callback = ModelCheckpoint('{}.hdf5'.format(path), monitor='val_loss', verbose=0, save_best_only=True, save_weights_only=True, mode='auto', period=1)\n",
        "callbacks = [es_callback,mc_callback]"
      ],
      "execution_count": 18,
      "outputs": []
    },
    {
      "cell_type": "code",
      "metadata": {
        "id": "Q8DNOXHFGuuX",
        "colab_type": "code",
        "colab": {}
      },
      "source": [
        "# Fit the model\n",
        "model.fit(x_train,\n",
        "          y_train,\n",
        "          epochs=15,\n",
        "          batch_size=4096,\n",
        "          validation_data=(x_validation, y_validation),\n",
        "          callbacks = callbacks\n",
        ")"
      ],
      "execution_count": null,
      "outputs": []
    },
    {
      "cell_type": "code",
      "metadata": {
        "id": "eu9CBLKYGxhf",
        "colab_type": "code",
        "colab": {}
      },
      "source": [
        "# Load best weights\n",
        "model = get_model('{}.hdf5'.format(path))"
      ],
      "execution_count": null,
      "outputs": []
    },
    {
      "cell_type": "code",
      "metadata": {
        "id": "Bmxf-OZPHeZS",
        "colab_type": "code",
        "colab": {}
      },
      "source": [
        "# Test preprocessing\n",
        "def padding(text):\n",
        "\treturn pad_sequences(tokenizer.texts_to_sequences(text), maxlen=MAX_SEQUENCE_LENGTH, padding='post', truncating='post')\n",
        "test_text = test[test.challenge_sequence <= 10].groupby('user_id').challenge.aggregate(lambda x: ' '.join(x)).reset_index()\n",
        "x_test = padding(test_text.challenge)"
      ],
      "execution_count": null,
      "outputs": []
    },
    {
      "cell_type": "code",
      "metadata": {
        "id": "dezY3isJHhKs",
        "colab_type": "code",
        "colab": {}
      },
      "source": [
        "# Get top 3 predictions for each user\n",
        "pred = model.predict(x_test,batch_size=4096)\n",
        "pred = pred.argsort(axis=1)[:,-3:][:,::-1]"
      ],
      "execution_count": null,
      "outputs": []
    },
    {
      "cell_type": "code",
      "metadata": {
        "id": "9k2pFK23Hjw6",
        "colab_type": "code",
        "colab": {}
      },
      "source": [
        "# Write Predictions\n",
        "brain = []\n",
        "for i in range(3):\n",
        "\ttest_11 = test_text[['user_id']]\n",
        "\ttest_11['user_sequence'] = test_11.user_id.astype(str) + '_'+str(i+11)\n",
        "\ttest_11['challenge'] = encoder.inverse_transform(pred[:,i])\n",
        "\tbrain.append(test_11[['user_sequence','challenge']])\n",
        "pd.concat(brain).to_csv('final_csv.csv',index=False)"
      ],
      "execution_count": null,
      "outputs": []
    }
  ]
}